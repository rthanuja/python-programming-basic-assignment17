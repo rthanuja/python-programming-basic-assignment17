{
 "cells": [
  {
   "cell_type": "code",
   "execution_count": 1,
   "id": "5043e06e",
   "metadata": {},
   "outputs": [],
   "source": [
    "'''1. Create a function that takes three arguments a, b, c and returns the sum of the numbers that are evenly divided by c\n",
    "from the range a, b inclusive.'''\n",
    "def evenlydivisible(a,b,c):\n",
    "    s=0\n",
    "    for i in range(a,b+1):\n",
    "        if i%c==0:\n",
    "            s+=i\n",
    "    return s"
   ]
  },
  {
   "cell_type": "code",
   "execution_count": 2,
   "id": "78a7e949",
   "metadata": {},
   "outputs": [
    {
     "data": {
      "text/plain": [
       "0"
      ]
     },
     "execution_count": 2,
     "metadata": {},
     "output_type": "execute_result"
    }
   ],
   "source": [
    "evenlydivisible(1,10,20)"
   ]
  },
  {
   "cell_type": "code",
   "execution_count": 3,
   "id": "b2e51b38",
   "metadata": {},
   "outputs": [
    {
     "data": {
      "text/plain": [
       "30"
      ]
     },
     "execution_count": 3,
     "metadata": {},
     "output_type": "execute_result"
    }
   ],
   "source": [
    "evenlydivisible(1,10,2)"
   ]
  },
  {
   "cell_type": "code",
   "execution_count": 4,
   "id": "f8f7ec5c",
   "metadata": {},
   "outputs": [
    {
     "data": {
      "text/plain": [
       "18"
      ]
     },
     "execution_count": 4,
     "metadata": {},
     "output_type": "execute_result"
    }
   ],
   "source": [
    "evenlydivisible(1,10,3)"
   ]
  },
  {
   "cell_type": "code",
   "execution_count": 5,
   "id": "792eb6cb",
   "metadata": {},
   "outputs": [],
   "source": [
    "'''2. Create a function that returns True if a given inequality expression is correct and False otherwise.'''\n",
    "def correctsign(s):\n",
    "    e=eval(s)\n",
    "    return e"
   ]
  },
  {
   "cell_type": "code",
   "execution_count": 6,
   "id": "8dc80ef3",
   "metadata": {},
   "outputs": [
    {
     "data": {
      "text/plain": [
       "True"
      ]
     },
     "execution_count": 6,
     "metadata": {},
     "output_type": "execute_result"
    }
   ],
   "source": [
    "correctsign(\"3<7<11\")"
   ]
  },
  {
   "cell_type": "code",
   "execution_count": 7,
   "id": "b716b441",
   "metadata": {},
   "outputs": [
    {
     "data": {
      "text/plain": [
       "False"
      ]
     },
     "execution_count": 7,
     "metadata": {},
     "output_type": "execute_result"
    }
   ],
   "source": [
    "correctsign(\"13>44>33>1\")"
   ]
  },
  {
   "cell_type": "code",
   "execution_count": 8,
   "id": "73fb7971",
   "metadata": {},
   "outputs": [
    {
     "data": {
      "text/plain": [
       "True"
      ]
     },
     "execution_count": 8,
     "metadata": {},
     "output_type": "execute_result"
    }
   ],
   "source": [
    "correctsign(\"1<2<6<9>3\")"
   ]
  },
  {
   "cell_type": "code",
   "execution_count": 9,
   "id": "fd05c624",
   "metadata": {},
   "outputs": [],
   "source": [
    "'''3. Create a function that replaces all the vowels in a string with a specified character.'''\n",
    "def replacevowels(s,e):\n",
    "    v=\"aeiouAEIOU\"\n",
    "    s1=\"\"\n",
    "    for i in s:\n",
    "        if i in v:\n",
    "            s1+=e\n",
    "        else:\n",
    "            s1+=i\n",
    "    return s1"
   ]
  },
  {
   "cell_type": "code",
   "execution_count": 10,
   "id": "30846378",
   "metadata": {},
   "outputs": [
    {
     "data": {
      "text/plain": [
       "'th# ##rdv#rk'"
      ]
     },
     "execution_count": 10,
     "metadata": {},
     "output_type": "execute_result"
    }
   ],
   "source": [
    "replacevowels(\"the aardvark\", \"#\")"
   ]
  },
  {
   "cell_type": "code",
   "execution_count": 11,
   "id": "e08dab5f",
   "metadata": {},
   "outputs": [
    {
     "data": {
      "text/plain": [
       "'m?nn?? m??s?'"
      ]
     },
     "execution_count": 11,
     "metadata": {},
     "output_type": "execute_result"
    }
   ],
   "source": [
    "replacevowels(\"minnie mouse\", \"?\")"
   ]
  },
  {
   "cell_type": "code",
   "execution_count": 12,
   "id": "d36ed417",
   "metadata": {},
   "outputs": [
    {
     "data": {
      "text/plain": [
       "'sh*k*sp**r*'"
      ]
     },
     "execution_count": 12,
     "metadata": {},
     "output_type": "execute_result"
    }
   ],
   "source": [
    "replacevowels(\"shakespeare\", \"*\")"
   ]
  },
  {
   "cell_type": "code",
   "execution_count": 13,
   "id": "59bbe7f3",
   "metadata": {},
   "outputs": [],
   "source": [
    "'''4. Write a function that calculates the factorial of a number recursively.'''\n",
    "def factorial(n):\n",
    "    if n<=1:\n",
    "        return 1\n",
    "    else:\n",
    "        return n*factorial(n-1)\n"
   ]
  },
  {
   "cell_type": "code",
   "execution_count": 14,
   "id": "2d22dbfa",
   "metadata": {},
   "outputs": [
    {
     "data": {
      "text/plain": [
       "120"
      ]
     },
     "execution_count": 14,
     "metadata": {},
     "output_type": "execute_result"
    }
   ],
   "source": [
    "factorial(5)"
   ]
  },
  {
   "cell_type": "code",
   "execution_count": 15,
   "id": "bac61650",
   "metadata": {},
   "outputs": [
    {
     "data": {
      "text/plain": [
       "6"
      ]
     },
     "execution_count": 15,
     "metadata": {},
     "output_type": "execute_result"
    }
   ],
   "source": [
    "factorial(3)"
   ]
  },
  {
   "cell_type": "code",
   "execution_count": 16,
   "id": "ac7f51a8",
   "metadata": {},
   "outputs": [
    {
     "data": {
      "text/plain": [
       "1"
      ]
     },
     "execution_count": 16,
     "metadata": {},
     "output_type": "execute_result"
    }
   ],
   "source": [
    "factorial(1)"
   ]
  },
  {
   "cell_type": "code",
   "execution_count": 17,
   "id": "3b960fd0",
   "metadata": {},
   "outputs": [
    {
     "data": {
      "text/plain": [
       "1"
      ]
     },
     "execution_count": 17,
     "metadata": {},
     "output_type": "execute_result"
    }
   ],
   "source": [
    "factorial(0)"
   ]
  },
  {
   "cell_type": "code",
   "execution_count": 18,
   "id": "8fffcb35",
   "metadata": {},
   "outputs": [],
   "source": [
    "'''Create a function that computes the hamming distance between two strings.Hamming distance is the number of characters\n",
    "that differ between two strings.'''\n",
    "def hammingdistance(s1,s2):\n",
    "    s=0\n",
    "    for i in range(len(s1)):\n",
    "        if s1[i]==s2[i]:\n",
    "            continue\n",
    "        else:\n",
    "            s+=1\n",
    "    return s"
   ]
  },
  {
   "cell_type": "code",
   "execution_count": 19,
   "id": "49d3233b",
   "metadata": {},
   "outputs": [
    {
     "data": {
      "text/plain": [
       "5"
      ]
     },
     "execution_count": 19,
     "metadata": {},
     "output_type": "execute_result"
    }
   ],
   "source": [
    "hammingdistance(\"abcde\",\"bcdef\")"
   ]
  },
  {
   "cell_type": "code",
   "execution_count": 20,
   "id": "b794d0d9",
   "metadata": {},
   "outputs": [
    {
     "data": {
      "text/plain": [
       "0"
      ]
     },
     "execution_count": 20,
     "metadata": {},
     "output_type": "execute_result"
    }
   ],
   "source": [
    "hammingdistance(\"abcde\",\"abcde\")"
   ]
  },
  {
   "cell_type": "code",
   "execution_count": 21,
   "id": "e5a4e080",
   "metadata": {},
   "outputs": [
    {
     "data": {
      "text/plain": [
       "1"
      ]
     },
     "execution_count": 21,
     "metadata": {},
     "output_type": "execute_result"
    }
   ],
   "source": [
    "hammingdistance(\"strong\",\"strung\")"
   ]
  }
 ],
 "metadata": {
  "kernelspec": {
   "display_name": "Python 3 (ipykernel)",
   "language": "python",
   "name": "python3"
  },
  "language_info": {
   "codemirror_mode": {
    "name": "ipython",
    "version": 3
   },
   "file_extension": ".py",
   "mimetype": "text/x-python",
   "name": "python",
   "nbconvert_exporter": "python",
   "pygments_lexer": "ipython3",
   "version": "3.10.9"
  }
 },
 "nbformat": 4,
 "nbformat_minor": 5
}
